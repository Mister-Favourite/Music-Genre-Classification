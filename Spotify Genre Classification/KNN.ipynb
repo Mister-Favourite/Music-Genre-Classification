{
 "cells": [
  {
   "cell_type": "markdown",
   "metadata": {},
   "source": [
    "# Josh Morgan\n",
    "kNN with class probabilites"
   ]
  },
  {
   "cell_type": "markdown",
   "metadata": {},
   "source": [
    "# Classes:\n",
    "0. Acoustic/Folk\n",
    "1. Alt Music\n",
    "2. Blues\n",
    "3. Bollywood\n",
    "4. Country\n",
    "5. HipHop\n",
    "6. Indie Alt\n",
    "7. Instrumental\n",
    "8. Metal\n",
    "9. Pop\n",
    "10. Rock"
   ]
  },
  {
   "cell_type": "code",
   "execution_count": 1,
   "metadata": {},
   "outputs": [],
   "source": [
    "import pandas as pd\n",
    "import numpy as np\n",
    "import matplotlib.pyplot as plt\n",
    "from sklearn import metrics\n",
    "from sklearn.metrics import classification_report\n",
    "from sklearn.model_selection import GridSearchCV\n",
    "from sklearn.model_selection import train_test_split\n",
    "from sklearn.model_selection import RandomizedSearchCV\n",
    "from sklearn.experimental import enable_iterative_imputer\n",
    "from sklearn.impute import IterativeImputer\n",
    "from sklearn.preprocessing import StandardScaler\n",
    "from sklearn.neighbors import KNeighborsClassifier\n",
    "from sklearn.metrics import confusion_matrix, ConfusionMatrixDisplay"
   ]
  },
  {
   "cell_type": "code",
   "execution_count": 2,
   "metadata": {},
   "outputs": [],
   "source": [
    "dataset = pd.read_csv(r\"C:\\Users\\CaptM\\OneDrive\\Desktop\\CSCE 4205\\Group Project\\train.csv\")"
   ]
  },
  {
   "cell_type": "markdown",
   "metadata": {},
   "source": [
    "# Use this to filter features that you might not want"
   ]
  },
  {
   "cell_type": "code",
   "execution_count": 3,
   "metadata": {},
   "outputs": [],
   "source": [
    "feature_columns = ['Popularity', 'danceability', 'energy', 'key', 'loudness', 'mode', 'speechiness', 'acousticness',\n",
    "                    'instrumentalness', 'liveness', 'valence', 'tempo', 'duration_in min/ms', 'time_signature']"
   ]
  },
  {
   "cell_type": "code",
   "execution_count": 4,
   "metadata": {},
   "outputs": [],
   "source": [
    "X_train, X_test, y_train, y_test = train_test_split(dataset[feature_columns], dataset['Class'], \n",
    "                                                    test_size=0.2, random_state=42)"
   ]
  },
  {
   "cell_type": "markdown",
   "metadata": {},
   "source": [
    "# Imputation"
   ]
  },
  {
   "cell_type": "code",
   "execution_count": 5,
   "metadata": {},
   "outputs": [],
   "source": [
    "imp_mean = IterativeImputer(random_state=42)\n",
    "imp_mean.fit(X_train)\n",
    "\n",
    "X_train = imp_mean.transform(X_train)\n",
    "X_test = imp_mean.transform(X_test)"
   ]
  },
  {
   "cell_type": "markdown",
   "metadata": {},
   "source": [
    "# Scaling Data"
   ]
  },
  {
   "cell_type": "code",
   "execution_count": 6,
   "metadata": {},
   "outputs": [],
   "source": [
    "scaler = StandardScaler()\n",
    "scaler.fit(X_train)\n",
    "\n",
    "X_train = scaler.transform(X_train)\n",
    "X_test = scaler.transform(X_test)"
   ]
  },
  {
   "cell_type": "code",
   "execution_count": 7,
   "metadata": {},
   "outputs": [],
   "source": [
    "kNN = KNeighborsClassifier()"
   ]
  },
  {
   "cell_type": "markdown",
   "metadata": {},
   "source": [
    "# Searching for best parameter"
   ]
  },
  {
   "cell_type": "code",
   "execution_count": 8,
   "metadata": {},
   "outputs": [
    {
     "name": "stdout",
     "output_type": "stream",
     "text": [
      "kNN Accuracy: 0.48923336131372774\n",
      "Best Parameters: {'n_neighbors': 30}\n"
     ]
    }
   ],
   "source": [
    "params = {'n_neighbors':[1,5,10,20,30,40,50,60,70,80,90,100]}\n",
    "kNN_GS = GridSearchCV(estimator=kNN, param_grid=params, scoring='accuracy', cv=5)\n",
    "\n",
    "kNN_GS.fit(X_train, y_train)\n",
    "\n",
    "score = kNN_GS.best_score_\n",
    "params = kNN_GS.best_params_\n",
    "print('kNN Accuracy:',score)\n",
    "print('Best Parameters:',params)"
   ]
  },
  {
   "cell_type": "markdown",
   "metadata": {},
   "source": [
    "# Narrowing the scope of the search"
   ]
  },
  {
   "cell_type": "code",
   "execution_count": 9,
   "metadata": {},
   "outputs": [],
   "source": [
    "params = {'n_neighbors':[28,29,30,31,32,33,34]}\n",
    "kNN_GS = GridSearchCV(estimator=kNN, param_grid=params, scoring='accuracy', cv=5)"
   ]
  },
  {
   "cell_type": "code",
   "execution_count": 10,
   "metadata": {},
   "outputs": [
    {
     "name": "stdout",
     "output_type": "stream",
     "text": [
      "kNN Accuracy: 0.49090022094863184\n",
      "Best Parameters: {'n_neighbors': 31}\n"
     ]
    }
   ],
   "source": [
    "kNN_GS.fit(X_train, y_train)\n",
    "\n",
    "score = kNN_GS.best_score_\n",
    "params = kNN_GS.best_params_\n",
    "print('kNN Accuracy:',score)\n",
    "print('Best Parameters:',params)"
   ]
  },
  {
   "cell_type": "markdown",
   "metadata": {},
   "source": [
    "# Running the most accurate parameter for model"
   ]
  },
  {
   "cell_type": "code",
   "execution_count": 11,
   "metadata": {},
   "outputs": [
    {
     "name": "stdout",
     "output_type": "stream",
     "text": [
      "              precision    recall  f1-score   support\n",
      "\n",
      "           0       0.65      0.74      0.69       136\n",
      "           1       0.20      0.01      0.02       286\n",
      "           2       0.51      0.33      0.40       281\n",
      "           3       0.77      0.53      0.63        78\n",
      "           4       0.52      0.66      0.58        71\n",
      "           5       0.63      0.63      0.63       262\n",
      "           6       0.35      0.21      0.26       500\n",
      "           7       0.77      0.93      0.85       103\n",
      "           8       0.58      0.45      0.51       382\n",
      "           9       0.47      0.48      0.48       531\n",
      "          10       0.43      0.70      0.54       970\n",
      "\n",
      "    accuracy                           0.49      3600\n",
      "   macro avg       0.54      0.52      0.51      3600\n",
      "weighted avg       0.47      0.49      0.46      3600\n",
      "\n"
     ]
    }
   ],
   "source": [
    "kNN = KNeighborsClassifier(31)\n",
    "kNN.fit(X_train,y_train)\n",
    "y_preds = kNN.predict(X_test)\n",
    "print(classification_report(y_test,y_preds))"
   ]
  },
  {
   "cell_type": "markdown",
   "metadata": {},
   "source": [
    "# Create confusion matrix "
   ]
  },
  {
   "cell_type": "code",
   "execution_count": 12,
   "metadata": {},
   "outputs": [
    {
     "data": {
      "image/png": "[encoded data removed]",
      "text/plain": [
       "<Figure size 432x288 with 2 Axes>"
      ]
     },
     "metadata": {
      "needs_background": "light"
     },
     "output_type": "display_data"
    }
   ],
   "source": [
    "from sklearn.metrics import confusion_matrix, ConfusionMatrixDisplay\n",
    "\n",
    "predictions = kNN.predict(X_test)\n",
    "cm = confusion_matrix(y_test, predictions, labels=kNN.classes_)\n",
    "disp = ConfusionMatrixDisplay(confusion_matrix=cm,\n",
    "                               display_labels=kNN.classes_)\n",
    "disp.plot()\n",
    "plt.show()"
   ]
  },
  {
   "cell_type": "markdown",
   "metadata": {},
   "source": [
    "# Narrow down the Classes"
   ]
  },
  {
   "cell_type": "code",
   "execution_count": 13,
   "metadata": {},
   "outputs": [],
   "source": [
    "# Combining Alt Music, Indie Alt, and Rock\n",
    "y_train = y_train.replace(to_replace=[1, 6], value=10)\n",
    "y_test = y_test.replace(to_replace=[1, 6], value=10)"
   ]
  },
  {
   "cell_type": "code",
   "execution_count": 14,
   "metadata": {},
   "outputs": [
    {
     "name": "stdout",
     "output_type": "stream",
     "text": [
      "kNN Accuracy: 0.6485829377484466\n",
      "Best Parameters: {'n_neighbors': 30}\n"
     ]
    }
   ],
   "source": [
    "params = {'n_neighbors':[1,5,10,20,30,40,50,60,70,80,90,100]}\n",
    "kNN_GS = GridSearchCV(estimator=kNN, param_grid=params, scoring='accuracy', cv=5)\n",
    "\n",
    "kNN_GS.fit(X_train, y_train)\n",
    "\n",
    "score = kNN_GS.best_score_\n",
    "params = kNN_GS.best_params_\n",
    "print('kNN Accuracy:',score)\n",
    "print('Best Parameters:',params)"
   ]
  },
  {
   "cell_type": "markdown",
   "metadata": {},
   "source": [
    "# Running the most accurate parameter for model"
   ]
  },
  {
   "cell_type": "code",
   "execution_count": 15,
   "metadata": {},
   "outputs": [
    {
     "name": "stdout",
     "output_type": "stream",
     "text": [
      "              precision    recall  f1-score   support\n",
      "\n",
      "           0       0.64      0.71      0.67       136\n",
      "           2       0.66      0.19      0.29       281\n",
      "           3       0.82      0.53      0.64        78\n",
      "           4       0.51      0.62      0.56        71\n",
      "           5       0.65      0.58      0.62       262\n",
      "           7       0.81      0.93      0.87       103\n",
      "           8       0.70      0.30      0.42       382\n",
      "           9       0.57      0.30      0.40       531\n",
      "          10       0.64      0.89      0.75      1756\n",
      "\n",
      "    accuracy                           0.65      3600\n",
      "   macro avg       0.67      0.56      0.58      3600\n",
      "weighted avg       0.65      0.65      0.61      3600\n",
      "\n"
     ]
    }
   ],
   "source": [
    "kNN = KNeighborsClassifier(30)\n",
    "kNN.fit(X_train,y_train)\n",
    "y_preds = kNN.predict(X_test)\n",
    "print(classification_report(y_test,y_preds))"
   ]
  },
  {
   "cell_type": "markdown",
   "metadata": {},
   "source": [
    "# Create updated confusion matrix"
   ]
  },
  {
   "cell_type": "code",
   "execution_count": 16,
   "metadata": {},
   "outputs": [
    {
     "data": {
      "image/png": "[encoded data removed]",
      "text/plain": [
       "<Figure size 432x288 with 2 Axes>"
      ]
     },
     "metadata": {
      "needs_background": "light"
     },
     "output_type": "display_data"
    }
   ],
   "source": [
    "predictions = kNN.predict(X_test)\n",
    "cm = confusion_matrix(y_test, predictions, labels=kNN.classes_)\n",
    "disp = ConfusionMatrixDisplay(confusion_matrix=cm,\n",
    "                               display_labels=kNN.classes_)\n",
    "disp.plot()\n",
    "plt.show()"
   ]
  },
  {
   "cell_type": "markdown",
   "metadata": {},
   "source": [
    "# Account for distance"
   ]
  },
  {
   "cell_type": "code",
   "execution_count": 17,
   "metadata": {},
   "outputs": [
    {
     "name": "stdout",
     "output_type": "stream",
     "text": [
      "              precision    recall  f1-score   support\n",
      "\n",
      "           0       0.66      0.72      0.69       136\n",
      "           2       0.57      0.17      0.27       281\n",
      "           3       0.81      0.54      0.65        78\n",
      "           4       0.54      0.62      0.58        71\n",
      "           5       0.68      0.57      0.62       262\n",
      "           7       0.82      0.94      0.87       103\n",
      "           8       0.60      0.29      0.39       382\n",
      "           9       0.50      0.29      0.37       531\n",
      "          10       0.63      0.86      0.73      1756\n",
      "\n",
      "    accuracy                           0.63      3600\n",
      "   macro avg       0.64      0.56      0.57      3600\n",
      "weighted avg       0.62      0.63      0.59      3600\n",
      "\n"
     ]
    }
   ],
   "source": [
    "kNN = KNeighborsClassifier(n_neighbors=30, weights='distance')\n",
    "kNN.fit(X_train,y_train)\n",
    "y_preds = kNN.predict(X_test)\n",
    "print(classification_report(y_test,y_preds))"
   ]
  },
  {
   "cell_type": "markdown",
   "metadata": {},
   "source": [
    "# \"Distance\" confusion matrix"
   ]
  },
  {
   "cell_type": "code",
   "execution_count": 18,
   "metadata": {},
   "outputs": [
    {
     "data": {
      "image/png": "[encoded data removed]",
      "text/plain": [
       "<Figure size 432x288 with 2 Axes>"
      ]
     },
     "metadata": {
      "needs_background": "light"
     },
     "output_type": "display_data"
    }
   ],
   "source": [
    "predictions = kNN.predict(X_test)\n",
    "cm = confusion_matrix(y_test, predictions, labels=kNN.classes_)\n",
    "disp = ConfusionMatrixDisplay(confusion_matrix=cm,\n",
    "                               display_labels=kNN.classes_)\n",
    "disp.plot()\n",
    "plt.show()"
   ]
  },
  {
   "cell_type": "code",
   "execution_count": 19,
   "metadata": {},
   "outputs": [],
   "source": [
    "dataset = pd.read_csv(r\"C:\\Users\\CaptM\\OneDrive\\Desktop\\CSCE 4205\\Group Project\\train.csv\")\n",
    "\n",
    "feature_columns = ['Popularity', 'danceability', 'energy', 'key', 'loudness', 'mode', 'speechiness', 'acousticness',\n",
    "                    'instrumentalness', 'liveness', 'valence', 'tempo', 'duration_in min/ms', 'time_signature']\n",
    "\n",
    "X_train, X_test, y_train, y_test = train_test_split(dataset[feature_columns], dataset['Class'], \n",
    "                                                    test_size=0.2, random_state=42)\n",
    "imp_mean = IterativeImputer(random_state=42)\n",
    "imp_mean.fit(X_train)\n",
    "\n",
    "X_train = imp_mean.transform(X_train)\n",
    "X_test = imp_mean.transform(X_test)\n",
    "\n",
    "scaler = StandardScaler()\n",
    "scaler.fit(X_train)\n",
    "\n",
    "X_train = scaler.transform(X_train)\n",
    "X_test = scaler.transform(X_test)"
   ]
  },
  {
   "cell_type": "code",
   "execution_count": 20,
   "metadata": {},
   "outputs": [
    {
     "name": "stdout",
     "output_type": "stream",
     "text": [
      "              precision    recall  f1-score   support\n",
      "\n",
      "           0       0.65      0.74      0.69       136\n",
      "           1       0.20      0.01      0.02       286\n",
      "           2       0.51      0.33      0.40       281\n",
      "           3       0.77      0.53      0.63        78\n",
      "           4       0.52      0.66      0.58        71\n",
      "           5       0.63      0.63      0.63       262\n",
      "           6       0.35      0.21      0.26       500\n",
      "           7       0.77      0.93      0.85       103\n",
      "           8       0.58      0.45      0.51       382\n",
      "           9       0.47      0.48      0.48       531\n",
      "          10       0.43      0.70      0.54       970\n",
      "\n",
      "    accuracy                           0.49      3600\n",
      "   macro avg       0.54      0.52      0.51      3600\n",
      "weighted avg       0.47      0.49      0.46      3600\n",
      "\n"
     ]
    }
   ],
   "source": [
    "kNN = KNeighborsClassifier(n_neighbors=31)\n",
    "kNN.fit(X_train,y_train)\n",
    "y_preds = kNN.predict(X_test)\n",
    "print(classification_report(y_test,y_preds))"
   ]
  },
  {
   "cell_type": "markdown",
   "metadata": {},
   "source": [
    "# Confusion Matrix: all classes"
   ]
  },
  {
   "cell_type": "code",
   "execution_count": 21,
   "metadata": {},
   "outputs": [
    {
     "data": {
      "image/png": "[encoded data removed]",
      "text/plain": [
       "<Figure size 432x288 with 2 Axes>"
      ]
     },
     "metadata": {
      "needs_background": "light"
     },
     "output_type": "display_data"
    }
   ],
   "source": [
    "predictions = kNN.predict(X_test)\n",
    "cm = confusion_matrix(y_test, predictions, labels=kNN.classes_)\n",
    "disp = ConfusionMatrixDisplay(confusion_matrix=cm,\n",
    "                               display_labels=kNN.classes_)\n",
    "disp.plot()\n",
    "plt.show()"
   ]
  },
  {
   "cell_type": "code",
   "execution_count": 22,
   "metadata": {},
   "outputs": [],
   "source": [
    "def find_class_name(test):\n",
    "    name = \"\"\n",
    "    if test == 0:\n",
    "        name = \"Acoustic/Folk\"\n",
    "    if test == 1:\n",
    "        name = \"Alt Music\"\n",
    "    if test == 2:\n",
    "        name = \"Blues\"\n",
    "    if test == 3:\n",
    "        name = \"Bollywood\"\n",
    "    if test == 4:\n",
    "        name = \"Country\"\n",
    "    if test == 5:\n",
    "        name = \"HipHop\"\n",
    "    if test == 6:\n",
    "        name = \"Indie Alt\"\n",
    "    if test == 7:\n",
    "        name = \"Instrumental\"\n",
    "    if test == 8:\n",
    "        name = \"Metal\"\n",
    "    if test == 9:\n",
    "        name = \"Pop\"\n",
    "    if test == 10:\n",
    "        name = \"Rock\"\n",
    "    return name"
   ]
  },
  {
   "cell_type": "code",
   "execution_count": 23,
   "metadata": {},
   "outputs": [],
   "source": [
    "def class_prob(num):\n",
    "    # predict_proba()\n",
    "    # Return probability estimates for the test data X\n",
    "    print(\"\")\n",
    "    print(\"{}\".format(num+1))\n",
    "    print(\"Probability of class:\")\n",
    "    print(kNN.predict_proba(X_test[num:num+1]))\n",
    "    print(\"\")\n",
    "    pred = kNN.predict(X_test[num:num+1])\n",
    "    pred = find_class_name(pred)\n",
    "    actual = find_class_name(y_test.iloc[num])\n",
    "    index = y_test.index[num]\n",
    "    artist = dataset.iloc[index][\"Artist Name\"]\n",
    "    song = dataset.iloc[index][\"Track Name\"]\n",
    "    print(\"Artist: {}\".format(artist))\n",
    "    print(\"Song Name: {}\".format(song))\n",
    "    print(\"Prediction: {}\".format(pred))\n",
    "    print(\"Actual: {}\".format(actual))\n",
    "    "
   ]
  },
  {
   "cell_type": "code",
   "execution_count": 24,
   "metadata": {},
   "outputs": [],
   "source": [
    "#for k in range(0,3599):\n",
    "   #class_prob(k)"
   ]
  },
  {
   "cell_type": "code",
   "execution_count": 25,
   "metadata": {},
   "outputs": [
    {
     "name": "stdout",
     "output_type": "stream",
     "text": [
      "\n",
      "947\n",
      "Probability of class:\n",
      "[[0.         0.09677419 0.         0.         0.         0.06451613\n",
      "  0.         0.         0.03225806 0.16129032 0.64516129]]\n",
      "\n",
      "Artist: Coldplay\n",
      "Song Name: Yellow\n",
      "Prediction: Rock\n",
      "Actual: Pop\n"
     ]
    }
   ],
   "source": [
    "#0-3599 samples that can be used to check prob.\n",
    "class_prob(946)"
   ]
  },
  {
   "cell_type": "code",
   "execution_count": null,
   "metadata": {},
   "outputs": [],
   "source": []
  }
 ],
 "metadata": {
  "kernelspec": {
   "display_name": "Python 3",
   "language": "python",
   "name": "python3"
  },
  "language_info": {
   "codemirror_mode": {
    "name": "ipython",
    "version": 3
   },
   "file_extension": ".py",
   "mimetype": "text/x-python",
   "name": "python",
   "nbconvert_exporter": "python",
   "pygments_lexer": "ipython3",
   "version": "3.8.5"
  }
 },
 "nbformat": 4,
 "nbformat_minor": 4
}
